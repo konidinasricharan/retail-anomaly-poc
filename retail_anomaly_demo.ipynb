{
 "cells": [
  {
   "cell_type": "code",
   "execution_count": null,
   "id": "86e2d312-cb03-45e4-a22c-94b009af4e9a",
   "metadata": {},
   "outputs": [],
   "source": [
    "# Retail Anomaly Detection — Mini Report\n",
    "# Author: Sri Charan Konidina\n",
    "# Date: October 10, 2025\n",
    "# Goal: Detect unusual sales transactions using Isolation Forest\n"
   ]
  },
  {
   "cell_type": "code",
   "execution_count": null,
   "id": "44e21f0c-4dde-425b-b123-7f6e5d246223",
   "metadata": {},
   "outputs": [],
   "source": [
    "import pandas as pd\n",
    "import numpy as np\n",
    "from sklearn.ensemble import IsolationForest\n",
    "import matplotlib.pyplot as plt\n",
    "\n",
    "print(\"Libraries imported successfully.\")\n"
   ]
  },
  {
   "cell_type": "code",
   "execution_count": null,
   "id": "993cb85c-008f-4658-99b4-ff1ca8db848e",
   "metadata": {},
   "outputs": [],
   "source": [
    "data = {\n",
    "    \"day\": range(1, 26),\n",
    "    \"sales\": [200, 220, 250, 260, 300, 280, 275, 290, 400, 410,\n",
    "              420, 430, 390, 410, 300, 310, 320, 330, 1005,\n",
    "              340, 350, 355, 360, 365, 500]\n",
    "}\n",
    "df = pd.DataFrame(data)\n",
    "df.head()\n"
   ]
  },
  {
   "cell_type": "code",
   "execution_count": null,
   "id": "f190acf6-64f5-49d7-9649-6007d61223e4",
   "metadata": {},
   "outputs": [],
   "source": [
    "model = IsolationForest(contamination=0.1, random_state=42)\n",
    "df[\"anomaly\"] = model.fit_predict(df[[\"sales\"]])\n",
    "anomalies = df[df[\"anomaly\"] == -1]\n",
    "anomalies\n"
   ]
  },
  {
   "cell_type": "code",
   "execution_count": null,
   "id": "aca47e85-1d1a-44de-bc4e-5d1fecbafa47",
   "metadata": {},
   "outputs": [],
   "source": [
    "plt.figure(figsize=(10,5))\n",
    "plt.plot(df[\"day\"], df[\"sales\"], label=\"Sales\", marker='o')\n",
    "plt.scatter(anomalies[\"day\"], anomalies[\"sales\"], color='red', label=\"Anomalies\", s=100)\n",
    "plt.title(\"Retail Sales Anomaly Detection\")\n",
    "plt.xlabel(\"Day\")\n",
    "plt.ylabel(\"Sales ($)\")\n",
    "plt.legend()\n",
    "plt.show()\n"
   ]
  },
  {
   "cell_type": "code",
   "execution_count": null,
   "id": "3c8a232b-b846-4b45-98b4-7625c8d6d2b3",
   "metadata": {},
   "outputs": [],
   "source": [
    "print(\"Detected anomalies:\")\n",
    "display(anomalies)\n",
    "print(\"\\nSummary: Isolation Forest successfully flagged outlier sales points.\")\n"
   ]
  }
 ],
 "metadata": {
  "kernelspec": {
   "display_name": "Python 3 (ipykernel)",
   "language": "python",
   "name": "python3"
  },
  "language_info": {
   "codemirror_mode": {
    "name": "ipython",
    "version": 3
   },
   "file_extension": ".py",
   "mimetype": "text/x-python",
   "name": "python",
   "nbconvert_exporter": "python",
   "pygments_lexer": "ipython3",
   "version": "3.11.9"
  }
 },
 "nbformat": 4,
 "nbformat_minor": 5
}
